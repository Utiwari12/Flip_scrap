{
 "cells": [
  {
   "cell_type": "code",
   "execution_count": 1,
   "id": "185761fe-87ff-46c5-9ca7-1cb8c0c60818",
   "metadata": {},
   "outputs": [],
   "source": [
    "import pandas as pd\n",
    "import requests\n",
    "from bs4 import BeautifulSoup\n",
    "Product_name = []\n",
    "Prices = []\n",
    "Description = []\n",
    "Reviews = []\n"
   ]
  },
  {
   "cell_type": "code",
   "execution_count": 2,
   "id": "aba9291e-0398-425f-9cde-45eae06a3ce8",
   "metadata": {},
   "outputs": [],
   "source": [
    "#url = \"https://www.flipkart.com/\""
   ]
  },
  {
   "cell_type": "code",
   "execution_count": 3,
   "id": "5e6ad126-a601-4378-8d16-70d4b11ae18f",
   "metadata": {},
   "outputs": [],
   "source": [
    "# x = requests.get(url)\n",
    "# print(x)"
   ]
  },
  {
   "cell_type": "code",
   "execution_count": 4,
   "id": "9a76ac81-6d91-45d6-b7b3-55ea6a16e9ca",
   "metadata": {},
   "outputs": [],
   "source": [
    "url = \"https://www.flipkart.com/search?q=mobile+less+than+50000&as=on&as-show=on&otracker=AS_Query_HistoryAutoSuggest_1_7_na_na_na&otracker1=AS_Query_HistoryAutoSuggest_1_7_na_na_na&as-pos=1&as-type=HISTORY&suggestionId=mobile+less+than+50000&requestId=d7d889f7-855c-4a4f-a699-c67f651fd216&page=1\""
   ]
  },
  {
   "cell_type": "code",
   "execution_count": 5,
   "id": "1c643ac8-6744-4148-9c77-18d4fb1c4beb",
   "metadata": {},
   "outputs": [],
   "source": [
    "# r = requests.get(\"https://www.flipkart.com/search?q=mobile+less+than+50000&as=on&as-show=on&otracker=AS_Query_HistoryAutoSuggest_1_7_na_na_na&otracker1=AS_Query_HistoryAutoSuggest_1_7_na_na_na&as-pos=1&as-type=HISTORY&suggestionId=mobile+less+than+50000&requestId=d7d889f7-855c-4a4f-a699-c67f651fd216\")\n",
    "# print(r)"
   ]
  },
  {
   "cell_type": "code",
   "execution_count": 6,
   "id": "4ab8bdc4-b56a-49b0-8768-72ce5f63de74",
   "metadata": {},
   "outputs": [
    {
     "data": {
      "text/plain": [
       "<Response [429]>"
      ]
     },
     "execution_count": 6,
     "metadata": {},
     "output_type": "execute_result"
    }
   ],
   "source": [
    "r = requests.get(url)\n",
    "r"
   ]
  },
  {
   "cell_type": "code",
   "execution_count": 7,
   "id": "271415fa-a9f2-47aa-b736-15806ff0ffc0",
   "metadata": {},
   "outputs": [],
   "source": [
    "soup = BeautifulSoup(r.content, \"html.parser\")\n",
    "\n",
    "# soup"
   ]
  },
  {
   "cell_type": "code",
   "execution_count": 8,
   "id": "a142f396-b1d6-4a86-bd1a-425ceef1e5ec",
   "metadata": {},
   "outputs": [],
   "source": [
    "box = soup.find(\"div\", class_ = \"DOjaWF gdgoEp\")"
   ]
  },
  {
   "cell_type": "code",
   "execution_count": 9,
   "id": "7b4ab34a-a071-4e5e-a469-1da14e964c31",
   "metadata": {},
   "outputs": [],
   "source": [
    "# print(soup.prettify())"
   ]
  },
  {
   "cell_type": "code",
   "execution_count": 10,
   "id": "830bf829-ced8-4cd2-9d34-88bee1db6f05",
   "metadata": {},
   "outputs": [
    {
     "ename": "AttributeError",
     "evalue": "'NoneType' object has no attribute 'get'",
     "output_type": "error",
     "traceback": [
      "\u001b[31m---------------------------------------------------------------------------\u001b[39m",
      "\u001b[31mAttributeError\u001b[39m                            Traceback (most recent call last)",
      "\u001b[36mCell\u001b[39m\u001b[36m \u001b[39m\u001b[32mIn[10]\u001b[39m\u001b[32m, line 1\u001b[39m\n\u001b[32m----> \u001b[39m\u001b[32m1\u001b[39m np = \u001b[43msoup\u001b[49m\u001b[43m.\u001b[49m\u001b[43mfind\u001b[49m\u001b[43m(\u001b[49m\u001b[33;43m\"\u001b[39;49m\u001b[33;43ma\u001b[39;49m\u001b[33;43m\"\u001b[39;49m\u001b[43m,\u001b[49m\u001b[43m \u001b[49m\u001b[43mclass_\u001b[49m\u001b[43m \u001b[49m\u001b[43m=\u001b[49m\u001b[43m \u001b[49m\u001b[33;43m\"\u001b[39;49m\u001b[33;43m_9QVEpD\u001b[39;49m\u001b[33;43m\"\u001b[39;49m\u001b[43m)\u001b[49m\u001b[43m.\u001b[49m\u001b[43mget\u001b[49m(\u001b[33m\"\u001b[39m\u001b[33mhref\u001b[39m\u001b[33m\"\u001b[39m)\n\u001b[32m      2\u001b[39m np\n",
      "\u001b[31mAttributeError\u001b[39m: 'NoneType' object has no attribute 'get'"
     ]
    }
   ],
   "source": [
    "np = soup.find(\"a\", class_ = \"_9QVEpD\").get(\"href\")\n",
    "np"
   ]
  },
  {
   "cell_type": "code",
   "execution_count": null,
   "id": "3c734711-8ce7-46ee-8500-ab9490917d85",
   "metadata": {},
   "outputs": [],
   "source": [
    "cnp = \"https://www.flipkart.com\"+np\n",
    "cnp"
   ]
  },
  {
   "cell_type": "code",
   "execution_count": null,
   "id": "416bf041-f103-487b-ad1c-d356f30f01fb",
   "metadata": {},
   "outputs": [],
   "source": [
    "url = cnp"
   ]
  },
  {
   "cell_type": "code",
   "execution_count": null,
   "id": "947b767f-7e87-47df-8cd1-15fa94425910",
   "metadata": {},
   "outputs": [],
   "source": [
    "r = requests.get(url)"
   ]
  },
  {
   "cell_type": "code",
   "execution_count": null,
   "id": "208706ae-b942-42a2-94d6-d145a3e368cd",
   "metadata": {},
   "outputs": [],
   "source": [
    "soup = BeautifulSoup(r.content, \"html.parser\")"
   ]
  },
  {
   "cell_type": "code",
   "execution_count": null,
   "id": "9057d9cd-19a6-4c1f-a743-01192322624a",
   "metadata": {},
   "outputs": [],
   "source": [
    "# while True:\n",
    "    # np = soup.find(\"a\", class_ = \"_9QVEpD\").get(\"href\")\n",
    "    # cnp = \"https://www.flipkart.com\"+np\n",
    "    # print(cnp)\n",
    "    \n",
    "    # url = cnp\n",
    "    # r = requests.get(url)\n",
    "    # soup = BeautifulSoup(r.content, \"html.parser\")"
   ]
  },
  {
   "cell_type": "code",
   "execution_count": null,
   "id": "6b94ea19-fe2b-408a-9124-4838c9f15e80",
   "metadata": {},
   "outputs": [],
   "source": [
    "for i in range(2,10):\n",
    "    url = \"https://www.flipkart.com/search?q=mobile+less+than+50000&as=on&as-show=on&otracker=AS_Query_HistoryAutoSuggest_1_7_na_na_na&otracker1=AS_Query_HistoryAutoSuggest_1_7_na_na_na&as-pos=1&as-type=HISTORY&suggestionId=mobile+less+than+50000&requestId=d7d889f7-855c-4a4f-a699-c67f651fd216&page=\"+str(i)\n",
    "    r = requests.get(url)\n",
    "    # print(r)\n",
    "    soup = BeautifulSoup(r.content, \"html.parser\")\n",
    "    # np = soup.find(\"a\", class_ = \"_9QVEpD\").get(\"href\")\n",
    "    # cnp = \"https://www.flipkart.com\"+np\n",
    "    # print(cnp)\n",
    "\n",
    "    "
   ]
  },
  {
   "cell_type": "code",
   "execution_count": null,
   "id": "4a9cf01a-e0cc-4753-bc64-0ab79dd001c1",
   "metadata": {},
   "outputs": [],
   "source": [
    "\n",
    "url = \"https://www.flipkart.com/search?q=mobile+less+than+50000&as=on&as-show=on&otracker=AS_Query_HistoryAutoSuggest_1_7_na_na_na&otracker1=AS_Query_HistoryAutoSuggest_1_7_na_na_na&as-pos=1&as-type=HISTORY&suggestionId=mobile+less+than+50000&requestId=d7d889f7-855c-4a4f-a699-c67f651fd216&page=\"+str(1)"
   ]
  },
  {
   "cell_type": "code",
   "execution_count": null,
   "id": "c0d81548-6499-497c-990c-a5ec8c4dff99",
   "metadata": {},
   "outputs": [],
   "source": [
    " r = requests.get(url)"
   ]
  },
  {
   "cell_type": "code",
   "execution_count": null,
   "id": "b347c747-8758-4440-a386-b60d5663493e",
   "metadata": {},
   "outputs": [],
   "source": [
    "url = \"https://www.flipkart.com/search?q=mobile+less+than+50000&as=on&as-show=on&otracker=AS_Query_HistoryAutoSuggest_1_7_na_na_na&otracker1=AS_Query_HistoryAutoSuggest_1_7_na_na_na&as-pos=1&as-type=HISTORY&suggestionId=mobile+less+than+50000&requestId=d7d889f7-855c-4a4f-a699-c67f651fd216&page=1\"\n",
    "r = requests.get(url)\n",
    "soup = BeautifulSoup(r.content, \"html.parser\")\n",
    "# names = soup.find_all(\"div\", class_ = \"KzDlHZ\")\n",
    "names = box.find_all(\"div\", class_ = \"KzDlHZ\")\n",
    "# print(names)\n"
   ]
  },
  {
   "cell_type": "code",
   "execution_count": null,
   "id": "e31eba26-75a4-4bd4-a06a-5da0d2082949",
   "metadata": {},
   "outputs": [],
   "source": [
    "# url = \"https://www.flipkart.com/search?q=mobile+less+than+50000&as=on&as-show=on&otracker=AS_Query_HistoryAutoSuggest_1_7_na_na_na&otracker1=AS_Query_HistoryAutoSuggest_1_7_na_na_na&as-pos=1&as-type=HISTORY&suggestionId=mobile+less+than+50000&requestId=d7d889f7-855c-4a4f-a699-c67f651fd216&page=1\"\n",
    "# r = requests.get(url)\n",
    "# soup = BeautifulSoup(r.content, \"html.parser\")\n",
    "# names = soup.find_all(\"div\", class_ = \"col col-7-12\")\n",
    "# print(names)\n",
    "# for i in names:\n",
    "#     names = i.text\n",
    "#     Product_name.append(names)\n",
    "# print(Product_name)\n"
   ]
  },
  {
   "cell_type": "code",
   "execution_count": null,
   "id": "56876567-40bc-4893-9abf-8399f5d6efe6",
   "metadata": {},
   "outputs": [],
   "source": [
    "for i in  names:\n",
    "    names = i.text\n",
    "    Product_name.append(names)\n",
    "    # print(Product_name)"
   ]
  },
  {
   "cell_type": "code",
   "execution_count": null,
   "id": "74da599b-d069-44d1-9c2a-e3b5c46abb98",
   "metadata": {},
   "outputs": [],
   "source": [
    "# print(Product_name)"
   ]
  },
  {
   "cell_type": "code",
   "execution_count": null,
   "id": "0f6c9613-d724-4193-bfb6-a303b087ca64",
   "metadata": {},
   "outputs": [],
   "source": [
    "print(len(Product_name))"
   ]
  },
  {
   "cell_type": "code",
   "execution_count": null,
   "id": "6ba9f846-0770-43d6-a0d0-c66a83aedf3e",
   "metadata": {},
   "outputs": [],
   "source": [
    "# prices = soup.find_all(\"div\", class_ = \"Nx9bqj _4b5DiR\")\n",
    "prices = box.find_all(\"div\", class_ = \"Nx9bqj _4b5DiR\")"
   ]
  },
  {
   "cell_type": "code",
   "execution_count": null,
   "id": "b6ceb85c-a5e6-4f7a-95eb-662f2958af9b",
   "metadata": {},
   "outputs": [],
   "source": [
    "for i in  prices:\n",
    "    prices = i.text\n",
    "    Prices.append(prices)"
   ]
  },
  {
   "cell_type": "code",
   "execution_count": null,
   "id": "8d9d90f3-e415-4531-8ebd-3310ddfd29e4",
   "metadata": {},
   "outputs": [],
   "source": [
    "# print(Prices)"
   ]
  },
  {
   "cell_type": "code",
   "execution_count": null,
   "id": "f4f1bb55-959b-4267-80bd-3464ec655aea",
   "metadata": {},
   "outputs": [],
   "source": [
    "print(len(Prices))"
   ]
  },
  {
   "cell_type": "code",
   "execution_count": null,
   "id": "806dc677-0004-472a-bd24-90b938efff8d",
   "metadata": {},
   "outputs": [],
   "source": [
    "# desc = soup.find_all(\"ul\", class_ = \"G4BRas\")\n",
    "desc = box.find_all(\"ul\", class_ = \"G4BRas\")"
   ]
  },
  {
   "cell_type": "code",
   "execution_count": null,
   "id": "f8516642-cba9-4986-a424-7765a619b626",
   "metadata": {},
   "outputs": [],
   "source": [
    "for i in desc:\n",
    "    desc = i.text\n",
    "    Description.append(desc)\n",
    "# print(Description)"
   ]
  },
  {
   "cell_type": "code",
   "execution_count": null,
   "id": "73cfd66d-e407-481f-b921-e1860cbbdd55",
   "metadata": {},
   "outputs": [],
   "source": [
    "# print(len(Description))"
   ]
  },
  {
   "cell_type": "code",
   "execution_count": null,
   "id": "bf960e69-63e9-4b63-a5ae-f881b29c7aa3",
   "metadata": {},
   "outputs": [],
   "source": [
    "# reviews = soup.find_all(\"div\", class_ = \"_5OesEi\")\n",
    "reviews = box.find_all(\"div\", class_ = \"_5OesEi\")"
   ]
  },
  {
   "cell_type": "code",
   "execution_count": null,
   "id": "098de147-c9ea-46da-8243-a44d94326220",
   "metadata": {},
   "outputs": [],
   "source": [
    "for i in reviews:\n",
    "    reviews = i.text\n",
    "    Reviews.append(reviews)\n",
    "# print(Reviews)\n",
    "    "
   ]
  },
  {
   "cell_type": "code",
   "execution_count": null,
   "id": "8ade28f7-7584-499d-bbef-cb1ebf2e05ac",
   "metadata": {},
   "outputs": [],
   "source": [
    "# print(len(Reviews))"
   ]
  },
  {
   "cell_type": "code",
   "execution_count": null,
   "id": "ff847845-8925-475b-bab0-be85def67e5e",
   "metadata": {},
   "outputs": [],
   "source": [
    "df = pd.DataFrane({\"Product Name\":Product_name, \"Prices\": Prices, \"Description\":Description, \"Reviews\":Reviews})"
   ]
  },
  {
   "cell_type": "code",
   "execution_count": null,
   "id": "55781c5f-90a4-456b-8589-fe0aacae2d9d",
   "metadata": {},
   "outputs": [],
   "source": [
    "print(df)"
   ]
  },
  {
   "cell_type": "code",
   "execution_count": null,
   "id": "7d900d64-cd31-4d1b-9ce6-c13fe5573c02",
   "metadata": {},
   "outputs": [],
   "source": [
    "df.to_csv(\"flipkart.csv\")"
   ]
  }
 ],
 "metadata": {
  "kernelspec": {
   "display_name": "base",
   "language": "python",
   "name": "python3"
  },
  "language_info": {
   "codemirror_mode": {
    "name": "ipython",
    "version": 3
   },
   "file_extension": ".py",
   "mimetype": "text/x-python",
   "name": "python",
   "nbconvert_exporter": "python",
   "pygments_lexer": "ipython3",
   "version": "3.12.7"
  }
 },
 "nbformat": 4,
 "nbformat_minor": 5
}
