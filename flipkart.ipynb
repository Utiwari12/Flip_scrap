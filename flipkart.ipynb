{
 "cells": [
  {
   "cell_type": "code",
   "execution_count": 32,
   "id": "185761fe-87ff-46c5-9ca7-1cb8c0c60818",
   "metadata": {},
   "outputs": [],
   "source": [
    "import pandas as pd\n",
    "import requests\n",
    "from bs4 import BeautifulSoup\n",
    "Product_name = []\n",
    "Prices = []\n",
    "Description = []\n",
    "\n"
   ]
  },
  {
   "cell_type": "code",
   "execution_count": 33,
   "id": "aba9291e-0398-425f-9cde-45eae06a3ce8",
   "metadata": {},
   "outputs": [],
   "source": [
    "#url = \"https://www.flipkart.com/\""
   ]
  },
  {
   "cell_type": "code",
   "execution_count": 34,
   "id": "5e6ad126-a601-4378-8d16-70d4b11ae18f",
   "metadata": {},
   "outputs": [],
   "source": [
    "# x = requests.get(url)\n",
    "# print(x)"
   ]
  },
  {
   "cell_type": "code",
   "execution_count": 35,
   "id": "9a76ac81-6d91-45d6-b7b3-55ea6a16e9ca",
   "metadata": {},
   "outputs": [],
   "source": [
    "url = \"https://www.flipkart.com/search?q=mobile+less+than+50000&as=on&as-show=on&otracker=AS_Query_HistoryAutoSuggest_1_7_na_na_na&otracker1=AS_Query_HistoryAutoSuggest_1_7_na_na_na&as-pos=1&as-type=HISTORY&suggestionId=mobile+less+than+50000&requestId=d7d889f7-855c-4a4f-a699-c67f651fd216&page=1\""
   ]
  },
  {
   "cell_type": "code",
   "execution_count": 36,
   "id": "1c643ac8-6744-4148-9c77-18d4fb1c4beb",
   "metadata": {},
   "outputs": [],
   "source": [
    "# r = requests.get(\"https://www.flipkart.com/search?q=mobile+less+than+50000&as=on&as-show=on&otracker=AS_Query_HistoryAutoSuggest_1_7_na_na_na&otracker1=AS_Query_HistoryAutoSuggest_1_7_na_na_na&as-pos=1&as-type=HISTORY&suggestionId=mobile+less+than+50000&requestId=d7d889f7-855c-4a4f-a699-c67f651fd216\")\n",
    "# print(r)"
   ]
  },
  {
   "cell_type": "code",
   "execution_count": 37,
   "id": "4ab8bdc4-b56a-49b0-8768-72ce5f63de74",
   "metadata": {},
   "outputs": [
    {
     "data": {
      "text/plain": [
       "<Response [200]>"
      ]
     },
     "execution_count": 37,
     "metadata": {},
     "output_type": "execute_result"
    }
   ],
   "source": [
    "r = requests.get(url)\n",
    "r"
   ]
  },
  {
   "cell_type": "code",
   "execution_count": 38,
   "id": "271415fa-a9f2-47aa-b736-15806ff0ffc0",
   "metadata": {},
   "outputs": [],
   "source": [
    "soup = BeautifulSoup(r.content, \"html.parser\")\n",
    "\n",
    "# soup"
   ]
  },
  {
   "cell_type": "code",
   "execution_count": 39,
   "id": "a142f396-b1d6-4a86-bd1a-425ceef1e5ec",
   "metadata": {},
   "outputs": [],
   "source": [
    "# box = soup.find(\"div\", class_ = \"DOjaWF gdgoEp\")"
   ]
  },
  {
   "cell_type": "code",
   "execution_count": 40,
   "id": "7b4ab34a-a071-4e5e-a469-1da14e964c31",
   "metadata": {},
   "outputs": [],
   "source": [
    "# print(soup.prettify())"
   ]
  },
  {
   "cell_type": "code",
   "execution_count": 41,
   "id": "830bf829-ced8-4cd2-9d34-88bee1db6f05",
   "metadata": {},
   "outputs": [
    {
     "data": {
      "text/plain": [
       "'/search?q=mobile+less+than+50000&as=on&as-show=on&otracker=AS_Query_HistoryAutoSuggest_1_7_na_na_na&otracker1=AS_Query_HistoryAutoSuggest_1_7_na_na_na&as-pos=1&as-type=HISTORY&suggestionId=mobile+less+than+50000&requestId=d7d889f7-855c-4a4f-a699-c67f651fd216&page=2'"
      ]
     },
     "execution_count": 41,
     "metadata": {},
     "output_type": "execute_result"
    }
   ],
   "source": [
    "np = soup.find(\"a\", class_ = \"_9QVEpD\").get(\"href\")\n",
    "np"
   ]
  },
  {
   "cell_type": "code",
   "execution_count": 42,
   "id": "3c734711-8ce7-46ee-8500-ab9490917d85",
   "metadata": {},
   "outputs": [
    {
     "data": {
      "text/plain": [
       "'https://www.flipkart.com/search?q=mobile+less+than+50000&as=on&as-show=on&otracker=AS_Query_HistoryAutoSuggest_1_7_na_na_na&otracker1=AS_Query_HistoryAutoSuggest_1_7_na_na_na&as-pos=1&as-type=HISTORY&suggestionId=mobile+less+than+50000&requestId=d7d889f7-855c-4a4f-a699-c67f651fd216&page=2'"
      ]
     },
     "execution_count": 42,
     "metadata": {},
     "output_type": "execute_result"
    }
   ],
   "source": [
    "cnp = \"https://www.flipkart.com\"+np\n",
    "cnp"
   ]
  },
  {
   "cell_type": "code",
   "execution_count": 43,
   "id": "416bf041-f103-487b-ad1c-d356f30f01fb",
   "metadata": {},
   "outputs": [],
   "source": [
    "url = cnp"
   ]
  },
  {
   "cell_type": "code",
   "execution_count": 44,
   "id": "947b767f-7e87-47df-8cd1-15fa94425910",
   "metadata": {},
   "outputs": [],
   "source": [
    "r = requests.get(url)"
   ]
  },
  {
   "cell_type": "code",
   "execution_count": 45,
   "id": "208706ae-b942-42a2-94d6-d145a3e368cd",
   "metadata": {},
   "outputs": [],
   "source": [
    "soup = BeautifulSoup(r.content, \"html.parser\")"
   ]
  },
  {
   "cell_type": "code",
   "execution_count": 46,
   "id": "6b94ea19-fe2b-408a-9124-4838c9f15e80",
   "metadata": {},
   "outputs": [],
   "source": [
    "for i in range(2,10):\n",
    "    url = \"https://www.flipkart.com/search?q=mobile+less+than+50000&as=on&as-show=on&otracker=AS_Query_HistoryAutoSuggest_1_7_na_na_na&otracker1=AS_Query_HistoryAutoSuggest_1_7_na_na_na&as-pos=1&as-type=HISTORY&suggestionId=mobile+less+than+50000&requestId=d7d889f7-855c-4a4f-a699-c67f651fd216&page=\"+str(i)\n",
    "    r = requests.get(url)\n",
    "    # print(r)\n",
    "    soup = BeautifulSoup(r.content, \"html.parser\")\n",
    "    # np = soup.find(\"a\", class_ = \"_9QVEpD\").get(\"href\")\n",
    "    # cnp = \"https://www.flipkart.com\"+np\n",
    "    # print(cnp)\n",
    "\n",
    "    "
   ]
  },
  {
   "cell_type": "code",
   "execution_count": 47,
   "id": "4a9cf01a-e0cc-4753-bc64-0ab79dd001c1",
   "metadata": {},
   "outputs": [],
   "source": [
    "\n",
    "url = \"https://www.flipkart.com/search?q=mobile+less+than+50000&as=on&as-show=on&otracker=AS_Query_HistoryAutoSuggest_1_7_na_na_na&otracker1=AS_Query_HistoryAutoSuggest_1_7_na_na_na&as-pos=1&as-type=HISTORY&suggestionId=mobile+less+than+50000&requestId=d7d889f7-855c-4a4f-a699-c67f651fd216&page=\"+str(1)"
   ]
  },
  {
   "cell_type": "code",
   "execution_count": 48,
   "id": "c0d81548-6499-497c-990c-a5ec8c4dff99",
   "metadata": {},
   "outputs": [],
   "source": [
    " r = requests.get(url)"
   ]
  },
  {
   "cell_type": "code",
   "execution_count": 49,
   "id": "b347c747-8758-4440-a386-b60d5663493e",
   "metadata": {},
   "outputs": [
    {
     "name": "stdout",
     "output_type": "stream",
     "text": [
      "[<div class=\"KzDlHZ\">Nothing Phone (3a) Pro (Black, 256 GB)</div>, <div class=\"KzDlHZ\">Nothing Phone (3a) Pro (Black, 256 GB)</div>, <div class=\"KzDlHZ\">Apple iPhone XR (Black, 64 GB) (Includes EarPods, Power Adapter)</div>, <div class=\"KzDlHZ\">Apple iPhone XR (White, 64 GB) (Includes EarPods, Power Adapter)</div>, <div class=\"KzDlHZ\">Nothing Phone (3a) Pro (Grey, 256 GB)</div>, <div class=\"KzDlHZ\">Apple iPhone XR (Yellow, 64 GB) (Includes EarPods, Power Adapter)</div>, <div class=\"KzDlHZ\">OnePlus 13R 5G (Nebula Noir, 512 GB)</div>, <div class=\"KzDlHZ\">OPPO Reno14 5G (Forest Green, 512 GB)</div>, <div class=\"KzDlHZ\">Samsung Galaxy S24 FE 5G (Graphite, 256 GB)</div>, <div class=\"KzDlHZ\">Apple iPhone 13 (Starlight, 128 GB)</div>, <div class=\"KzDlHZ\">Nothing Phone (3a) (Black, 256 GB)</div>, <div class=\"KzDlHZ\">Nothing Phone (3a) (White, 256 GB)</div>, <div class=\"KzDlHZ\">OnePlus 13R 5G (Astral Trail, 512 GB)</div>, <div class=\"KzDlHZ\">MOTOROLA Razr 60 (PANTONE Lightest Sky, 256 GB)</div>, <div class=\"KzDlHZ\">Samsung Galaxy S24 FE 5G (Blue, 128 GB)</div>, <div class=\"KzDlHZ\">MOTOROLA Razr 60 (PANTONE Spring Bud, 256 GB)</div>, <div class=\"KzDlHZ\">Nothing Phone (3a) Pro (Black, 128 GB)</div>, <div class=\"KzDlHZ\">Apple iPhone 13 (Midnight, 128 GB)</div>, <div class=\"KzDlHZ\">OnePlus 13R 5G (Nebula Noir, 256 GB)</div>, <div class=\"KzDlHZ\">OPPO Reno14 5G (Pearl White, 512 GB)</div>, <div class=\"KzDlHZ\">realme Gt 7T (Racing Yellow, 256 GB)</div>, <div class=\"KzDlHZ\">Xiaomi 14 CIVI (Cruise Blue, 256 GB)</div>, <div class=\"KzDlHZ\">vivo V50 5G (Rose Red, 256 GB)</div>, <div class=\"KzDlHZ\">Samsung Galaxy A55 5G (Awesome Navy, 256 GB)</div>]\n"
     ]
    }
   ],
   "source": [
    "url = \"https://www.flipkart.com/search?q=mobile+less+than+50000&as=on&as-show=on&otracker=AS_Query_HistoryAutoSuggest_1_7_na_na_na&otracker1=AS_Query_HistoryAutoSuggest_1_7_na_na_na&as-pos=1&as-type=HISTORY&suggestionId=mobile+less+than+50000&requestId=d7d889f7-855c-4a4f-a699-c67f651fd216&page=1\"\n",
    "r = requests.get(url)\n",
    "soup = BeautifulSoup(r.content, \"html.parser\")\n",
    "names = soup.find_all(\"div\", class_ = \"KzDlHZ\")\n",
    "\n",
    "print(names)\n"
   ]
  },
  {
   "cell_type": "code",
   "execution_count": 50,
   "id": "e31eba26-75a4-4bd4-a06a-5da0d2082949",
   "metadata": {},
   "outputs": [],
   "source": [
    "# url = \"https://www.flipkart.com/search?q=mobile+less+than+50000&as=on&as-show=on&otracker=AS_Query_HistoryAutoSuggest_1_7_na_na_na&otracker1=AS_Query_HistoryAutoSuggest_1_7_na_na_na&as-pos=1&as-type=HISTORY&suggestionId=mobile+less+than+50000&requestId=d7d889f7-855c-4a4f-a699-c67f651fd216&page=1\"\n",
    "# r = requests.get(url)\n",
    "# soup = BeautifulSoup(r.content, \"html.parser\")\n",
    "# names = soup.find_all(\"div\", class_ = \"col col-7-12\")\n",
    "# print(names)\n",
    "# for i in names:\n",
    "#     names = i.text\n",
    "#     Product_name.append(names)\n",
    "# print(Product_name)\n"
   ]
  },
  {
   "cell_type": "code",
   "execution_count": 51,
   "id": "56876567-40bc-4893-9abf-8399f5d6efe6",
   "metadata": {},
   "outputs": [],
   "source": [
    "for i in  names:\n",
    "    names = i.text\n",
    "    Product_name.append(names)\n",
    "    "
   ]
  },
  {
   "cell_type": "code",
   "execution_count": 52,
   "id": "74da599b-d069-44d1-9c2a-e3b5c46abb98",
   "metadata": {},
   "outputs": [
    {
     "name": "stdout",
     "output_type": "stream",
     "text": [
      "['Nothing Phone (3a) Pro (Black, 256 GB)', 'Nothing Phone (3a) Pro (Black, 256 GB)', 'Apple iPhone XR (Black, 64 GB) (Includes EarPods, Power Adapter)', 'Apple iPhone XR (White, 64 GB) (Includes EarPods, Power Adapter)', 'Nothing Phone (3a) Pro (Grey, 256 GB)', 'Apple iPhone XR (Yellow, 64 GB) (Includes EarPods, Power Adapter)', 'OnePlus 13R 5G (Nebula Noir, 512 GB)', 'OPPO Reno14 5G (Forest Green, 512 GB)', 'Samsung Galaxy S24 FE 5G (Graphite, 256 GB)', 'Apple iPhone 13 (Starlight, 128 GB)', 'Nothing Phone (3a) (Black, 256 GB)', 'Nothing Phone (3a) (White, 256 GB)', 'OnePlus 13R 5G (Astral Trail, 512 GB)', 'MOTOROLA Razr 60 (PANTONE Lightest Sky, 256 GB)', 'Samsung Galaxy S24 FE 5G (Blue, 128 GB)', 'MOTOROLA Razr 60 (PANTONE Spring Bud, 256 GB)', 'Nothing Phone (3a) Pro (Black, 128 GB)', 'Apple iPhone 13 (Midnight, 128 GB)', 'OnePlus 13R 5G (Nebula Noir, 256 GB)', 'OPPO Reno14 5G (Pearl White, 512 GB)', 'realme Gt 7T (Racing Yellow, 256 GB)', 'Xiaomi 14 CIVI (Cruise Blue, 256 GB)', 'vivo V50 5G (Rose Red, 256 GB)', 'Samsung Galaxy A55 5G (Awesome Navy, 256 GB)']\n"
     ]
    }
   ],
   "source": [
    " print(Product_name)"
   ]
  },
  {
   "cell_type": "code",
   "execution_count": 53,
   "id": "0f6c9613-d724-4193-bfb6-a303b087ca64",
   "metadata": {},
   "outputs": [
    {
     "name": "stdout",
     "output_type": "stream",
     "text": [
      "24\n"
     ]
    }
   ],
   "source": [
    "print(len(Product_name))"
   ]
  },
  {
   "cell_type": "code",
   "execution_count": 54,
   "id": "6ba9f846-0770-43d6-a0d0-c66a83aedf3e",
   "metadata": {},
   "outputs": [],
   "source": [
    "prices = soup.find_all(\"div\", class_ = \"Nx9bqj _4b5DiR\")\n"
   ]
  },
  {
   "cell_type": "code",
   "execution_count": 55,
   "id": "b6ceb85c-a5e6-4f7a-95eb-662f2958af9b",
   "metadata": {},
   "outputs": [],
   "source": [
    "for i in  prices:\n",
    "    prices = i.text\n",
    "    Prices.append(prices)"
   ]
  },
  {
   "cell_type": "code",
   "execution_count": 56,
   "id": "8d9d90f3-e415-4531-8ebd-3310ddfd29e4",
   "metadata": {},
   "outputs": [
    {
     "name": "stdout",
     "output_type": "stream",
     "text": [
      "['₹31,999', '₹33,999', '₹47,900', '₹47,900', '₹31,999', '₹47,900', '₹43,240', '₹42,999', '₹45,999', '₹44,999', '₹26,999', '₹26,999', '₹42,839', '₹49,999', '₹39,999', '₹49,999', '₹29,999', '₹44,999', '₹40,657', '₹42,999', '₹33,998', '₹36,999', '₹36,999', '₹32,990']\n"
     ]
    }
   ],
   "source": [
    "print(Prices)"
   ]
  },
  {
   "cell_type": "code",
   "execution_count": 57,
   "id": "f4f1bb55-959b-4267-80bd-3464ec655aea",
   "metadata": {},
   "outputs": [
    {
     "name": "stdout",
     "output_type": "stream",
     "text": [
      "24\n"
     ]
    }
   ],
   "source": [
    "print(len(Prices))"
   ]
  },
  {
   "cell_type": "code",
   "execution_count": 58,
   "id": "806dc677-0004-472a-bd24-90b938efff8d",
   "metadata": {},
   "outputs": [],
   "source": [
    "desc = soup.find_all(\"ul\", class_ = \"G4BRas\")"
   ]
  },
  {
   "cell_type": "code",
   "execution_count": 59,
   "id": "f8516642-cba9-4986-a424-7765a619b626",
   "metadata": {},
   "outputs": [
    {
     "name": "stdout",
     "output_type": "stream",
     "text": [
      "['8 GB RAM | 256 GB ROM43.66 cm (17.19 cm) Full HD+ Display50MP (Main) + 50MP (3X Periscope)+ 8MP (Ultra-Wide) | 50MP Front Camera5000 mAh Battery7s Gen3 Processor1 Year Manufacturing Warranty', '12 GB RAM | 256 GB ROM43.66 cm (17.19 cm) Full HD+ Display50MP (Main) + 50MP (3X Periscope)+ 8MP (Ultra-Wide) | 50MP Front Camera5000 mAh Battery7s Gen3 Processor1 Year Manufacturing Warranty', '64 GB ROM15.5 cm (6.102 inch) Display12MP Rear Camera | 7MP Front CameraA12 Bionic Chip ProcessoriOS 13 Compatible1 year warranty for phone and 1 year warranty for in Box Accessories.', '64 GB ROM15.49 cm (6.1 inch) Display12MP Rear Camera | 7MP Front CameraA12 Bionic Chip ProcessoriOS 13 Compatible1 year warranty for phone and 1 year warranty for in Box Accessories.', '8 GB RAM | 256 GB ROM43.66 cm (17.19 cm) Full HD+ Display50MP (Main) + 50MP (3X Periscope)+ 8MP (Ultra-Wide) | 50MP Front Camera5000 mAh Battery7s Gen3 Processor1 Year Manufacturing Warranty', '64 GB ROM15.49 cm (6.1 inch) Display12MP Rear Camera | 7MP Front CameraA12 Bionic Chip ProcessoriOS 13 Compatible1 year warranty for phone and 1 year warranty for in Box Accessories.', '16 GB RAM | 512 GB ROM17.22 cm (6.78 inch) Display50MP Rear Camera6000 mAh Battery1 year manufacturer warranty for device and 1 year manufacturer warranty for in-box accessories including batteries from the date of purchase', '12 GB RAM | 512 GB ROM16.74 cm (6.59 inch) Display50MP + 8MP + 50MP | 50MP Front Camera6000 mAh BatteryDimensity 8350 Processor1 Year Manufacturer Warranty for Device and 6 Months Manufacturer Warranty for Inbox Accessories', '8 GB RAM | 256 GB ROM17.02 cm (6.7 inch) Full HD+ Display50MP + 12MP | 10MP Front Camera4700 mAh BatteryExynos 2400e Processor1 Year Manufacturer Warranty for Device and 6 Months for In-Box Accessories', '128 GB ROM15.49 cm (6.1 inch) Super Retina XDR Display12MP + 12MP | 12MP Front CameraA15 Bionic Chip Processor1 year warranty for phone and 1 year warranty for in Box Accessories.', '8 GB RAM | 256 GB ROM43.66 cm (17.19 cm) Full HD+ Display50MP (Main) + 50MP (2X Tele Photo) + 8MP (Ultra-Wide) | 32MP Front Camera5000 mAh Battery7s Gen3 Processor1 Year Manufacturing Warranty', '8 GB RAM | 256 GB ROM43.66 cm (17.19 cm) Full HD+ Display50MP (Main) + 50MP (2X Tele Photo) + 8MP (Ultra-Wide) | 32MP Front Camera5000 mAh Battery7s Gen3 Processor1 Year Manufacturing Warranty', '16 GB RAM | 512 GB ROM17.22 cm (6.78 inch) Display50MP Rear Camera6000 mAh Battery1 year manufacturer warranty for device and 1 year manufacturer warranty for in-box accessories including batteries from the date of purchase', '8 GB RAM | 256 GB ROM17.53 cm (6.9 inch) Full HD+ Display50MP + 13MP | 32MP Front Camera4500 mAh BatteryDimensity 7400X Processor1 Year Warranty on Handset and 6 Months Warranty on Accessories', '8 GB RAM | 128 GB ROM17.02 cm (6.7 inch) Full HD+ Display50MP + 12MP | 10MP Front Camera4700 mAh BatteryExynos 2400e Processor1 Year Manufacturer Warranty for Device and 6 Months for In-Box Accessories', '8 GB RAM | 256 GB ROM17.53 cm (6.9 inch) Full HD+ Display50MP + 13MP | 32MP Front Camera4500 mAh BatteryDimensity 7400X Processor1 Year Warranty on Handset and 6 Months Warranty on Accessories', '8 GB RAM | 128 GB ROM43.66 cm (17.19 cm) Full HD+ Display50MP (Main) + 50MP (3X Periscope)+ 8MP (Ultra-Wide) | 50MP Front Camera5000 mAh Battery7s Gen3 Processor1 Year Manufacturing Warranty', '128 GB ROM15.49 cm (6.1 inch) Super Retina XDR Display12MP + 12MP | 12MP Front CameraA15 Bionic Chip Processor1 year warranty for phone and 1 year warranty for in Box Accessories.', '12 GB RAM | 256 GB ROM17.22 cm (6.78 inch) Display50MP Rear Camera6000 mAh Battery1 year manufacturer warranty for device and 1 year manufacturer warranty for in-box accessories including batteries from the date of purchase', '12 GB RAM | 512 GB ROM16.74 cm (6.59 inch) Display50MP + 8MP + 50MP | 50MP Front Camera6000 mAh BatteryDimensity 8350 Processor1 Year Manufacturer Warranty for Device and 6 Months Manufacturer Warranty for Inbox Accessories', '12 GB RAM | 256 GB ROM17.27 cm (6.8 inch) Full HD+ AMOLED Display50MP + 50MP + 8MP | 32MP + 32MP Dual Front Camera7000 mAh BatteryDimensity Processorstandard 1-year warranty for the device itself and a 6-month warranty for accessories', '8 GB RAM | 256 GB ROM16.64 cm (6.55 inch) Display50MP Rear Camera | 32MP + 32MP Dual Front Camera4700 mAh Battery8s Gen 3 Mobile Platform Processor1 Year Manufacturer Warranty for Phone and 6 Months Warranty for In the Box Accessories', '8 GB RAM | 256 GB ROM17.2 cm (6.77 inch) Display50MP + 50MP | 50MP Front Camera6000 mAh Battery7 Gen 3 Processor1 Year Manufacturer Warranty for Device and 6 Months Warranty for Inbox Accessories', '8 GB RAM | 256 GB ROM | Expandable Upto 1 TB16.76 cm (6.6 inch) Full HD+ Display50MP + 12MP + 5MP | 32MP Front Camera5000 mAh BatteryExynos 1480 Processor1 Year Manufacturer Warranty for Device and 6 Months for In-Box Accessories']\n"
     ]
    }
   ],
   "source": [
    "for i in desc:\n",
    "    desc = i.text\n",
    "    Description.append(desc)\n",
    "print(Description)"
   ]
  },
  {
   "cell_type": "code",
   "execution_count": 60,
   "id": "73cfd66d-e407-481f-b921-e1860cbbdd55",
   "metadata": {},
   "outputs": [
    {
     "name": "stdout",
     "output_type": "stream",
     "text": [
      "24\n"
     ]
    }
   ],
   "source": [
    " print(len(Description))"
   ]
  },
  {
   "cell_type": "code",
   "execution_count": 61,
   "id": "8ade28f7-7584-499d-bbef-cb1ebf2e05ac",
   "metadata": {},
   "outputs": [],
   "source": [
    "# print(len(Reviews))"
   ]
  },
  {
   "cell_type": "code",
   "execution_count": 62,
   "id": "ff847845-8925-475b-bab0-be85def67e5e",
   "metadata": {},
   "outputs": [],
   "source": [
    "df = pd.DataFrame({\"Product Name\":Product_name, \"Prices\": Prices, \"Description\":Description})"
   ]
  },
  {
   "cell_type": "code",
   "execution_count": 63,
   "id": "55781c5f-90a4-456b-8589-fe0aacae2d9d",
   "metadata": {},
   "outputs": [
    {
     "name": "stdout",
     "output_type": "stream",
     "text": [
      "                                         Product Name   Prices  \\\n",
      "0              Nothing Phone (3a) Pro (Black, 256 GB)  ₹31,999   \n",
      "1              Nothing Phone (3a) Pro (Black, 256 GB)  ₹33,999   \n",
      "2   Apple iPhone XR (Black, 64 GB) (Includes EarPo...  ₹47,900   \n",
      "3   Apple iPhone XR (White, 64 GB) (Includes EarPo...  ₹47,900   \n",
      "4               Nothing Phone (3a) Pro (Grey, 256 GB)  ₹31,999   \n",
      "5   Apple iPhone XR (Yellow, 64 GB) (Includes EarP...  ₹47,900   \n",
      "6                OnePlus 13R 5G (Nebula Noir, 512 GB)  ₹43,240   \n",
      "7               OPPO Reno14 5G (Forest Green, 512 GB)  ₹42,999   \n",
      "8         Samsung Galaxy S24 FE 5G (Graphite, 256 GB)  ₹45,999   \n",
      "9                 Apple iPhone 13 (Starlight, 128 GB)  ₹44,999   \n",
      "10                 Nothing Phone (3a) (Black, 256 GB)  ₹26,999   \n",
      "11                 Nothing Phone (3a) (White, 256 GB)  ₹26,999   \n",
      "12              OnePlus 13R 5G (Astral Trail, 512 GB)  ₹42,839   \n",
      "13    MOTOROLA Razr 60 (PANTONE Lightest Sky, 256 GB)  ₹49,999   \n",
      "14            Samsung Galaxy S24 FE 5G (Blue, 128 GB)  ₹39,999   \n",
      "15      MOTOROLA Razr 60 (PANTONE Spring Bud, 256 GB)  ₹49,999   \n",
      "16             Nothing Phone (3a) Pro (Black, 128 GB)  ₹29,999   \n",
      "17                 Apple iPhone 13 (Midnight, 128 GB)  ₹44,999   \n",
      "18               OnePlus 13R 5G (Nebula Noir, 256 GB)  ₹40,657   \n",
      "19               OPPO Reno14 5G (Pearl White, 512 GB)  ₹42,999   \n",
      "20               realme Gt 7T (Racing Yellow, 256 GB)  ₹33,998   \n",
      "21               Xiaomi 14 CIVI (Cruise Blue, 256 GB)  ₹36,999   \n",
      "22                     vivo V50 5G (Rose Red, 256 GB)  ₹36,999   \n",
      "23       Samsung Galaxy A55 5G (Awesome Navy, 256 GB)  ₹32,990   \n",
      "\n",
      "                                          Description  \n",
      "0   8 GB RAM | 256 GB ROM43.66 cm (17.19 cm) Full ...  \n",
      "1   12 GB RAM | 256 GB ROM43.66 cm (17.19 cm) Full...  \n",
      "2   64 GB ROM15.5 cm (6.102 inch) Display12MP Rear...  \n",
      "3   64 GB ROM15.49 cm (6.1 inch) Display12MP Rear ...  \n",
      "4   8 GB RAM | 256 GB ROM43.66 cm (17.19 cm) Full ...  \n",
      "5   64 GB ROM15.49 cm (6.1 inch) Display12MP Rear ...  \n",
      "6   16 GB RAM | 512 GB ROM17.22 cm (6.78 inch) Dis...  \n",
      "7   12 GB RAM | 512 GB ROM16.74 cm (6.59 inch) Dis...  \n",
      "8   8 GB RAM | 256 GB ROM17.02 cm (6.7 inch) Full ...  \n",
      "9   128 GB ROM15.49 cm (6.1 inch) Super Retina XDR...  \n",
      "10  8 GB RAM | 256 GB ROM43.66 cm (17.19 cm) Full ...  \n",
      "11  8 GB RAM | 256 GB ROM43.66 cm (17.19 cm) Full ...  \n",
      "12  16 GB RAM | 512 GB ROM17.22 cm (6.78 inch) Dis...  \n",
      "13  8 GB RAM | 256 GB ROM17.53 cm (6.9 inch) Full ...  \n",
      "14  8 GB RAM | 128 GB ROM17.02 cm (6.7 inch) Full ...  \n",
      "15  8 GB RAM | 256 GB ROM17.53 cm (6.9 inch) Full ...  \n",
      "16  8 GB RAM | 128 GB ROM43.66 cm (17.19 cm) Full ...  \n",
      "17  128 GB ROM15.49 cm (6.1 inch) Super Retina XDR...  \n",
      "18  12 GB RAM | 256 GB ROM17.22 cm (6.78 inch) Dis...  \n",
      "19  12 GB RAM | 512 GB ROM16.74 cm (6.59 inch) Dis...  \n",
      "20  12 GB RAM | 256 GB ROM17.27 cm (6.8 inch) Full...  \n",
      "21  8 GB RAM | 256 GB ROM16.64 cm (6.55 inch) Disp...  \n",
      "22  8 GB RAM | 256 GB ROM17.2 cm (6.77 inch) Displ...  \n",
      "23  8 GB RAM | 256 GB ROM | Expandable Upto 1 TB16...  \n"
     ]
    }
   ],
   "source": [
    "print(df)"
   ]
  },
  {
   "cell_type": "code",
   "execution_count": 64,
   "id": "7d900d64-cd31-4d1b-9ce6-c13fe5573c02",
   "metadata": {},
   "outputs": [],
   "source": [
    "df.to_csv(\"flipkart.csv\")"
   ]
  }
 ],
 "metadata": {
  "kernelspec": {
   "display_name": "Python 3 (ipykernel)",
   "language": "python",
   "name": "python3"
  },
  "language_info": {
   "codemirror_mode": {
    "name": "ipython",
    "version": 3
   },
   "file_extension": ".py",
   "mimetype": "text/x-python",
   "name": "python",
   "nbconvert_exporter": "python",
   "pygments_lexer": "ipython3",
   "version": "3.13.3"
  }
 },
 "nbformat": 4,
 "nbformat_minor": 5
}
